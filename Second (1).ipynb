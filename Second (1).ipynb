{
  "nbformat": 4,
  "nbformat_minor": 0,
  "metadata": {
    "colab": {
      "provenance": []
    },
    "kernelspec": {
      "name": "python3",
      "display_name": "Python 3"
    },
    "language_info": {
      "name": "python"
    }
  },
  "cells": [
    {
      "cell_type": "markdown",
      "source": [
        "### 영상의 표현\n",
        "\n",
        "\n"
      ],
      "metadata": {
        "id": "sWFdxxbsXX1g"
      }
    },
    {
      "cell_type": "markdown",
      "source": [
        "영상의 인식\n",
        "- 일반적 의미 : 광학 현상을 2차원 이상의 데이터로 표현한 것\n",
        "- 넓은 의미 : 가시광선 영역 외의 범위를 센싱한 영상\n",
        "              , 컴퓨터 그래픽을 이용하여 생성한 영상"
      ],
      "metadata": {
        "id": "LyfWtKIvXdWI"
      }
    },
    {
      "cell_type": "markdown",
      "source": [
        "영상의 디지털화\n",
        "- 샘플링 : 연속적인 아날로그 영상 일정 간격으로 수치화\n",
        "- 양자화 : 각 샘플의 값을 정해진 수치로 대응"
      ],
      "metadata": {
        "id": "-2CaTo86YlLR"
      }
    },
    {
      "cell_type": "markdown",
      "source": [
        "#### 샘플링\n",
        "- 공간샘플링 : 픽셀을 하나의 데이터로 표현\n",
        "- 시간 샘플링 : 연속적인 시간을 특정 주기의 시간으로 나누어 영상을 취득"
      ],
      "metadata": {
        "id": "chSZB2LNZKnx"
      }
    },
    {
      "cell_type": "markdown",
      "source": [
        "#### 양자화\n",
        "- 영상 신호의 진폭 값을 디지털화\n",
        "- 샘플링 된 값을 일정 길이의 비트로 표현"
      ],
      "metadata": {
        "id": "ur3ajCa_ZdzJ"
      }
    },
    {
      "cell_type": "markdown",
      "source": [
        "### 취득과 표현\n",
        "\n",
        "- 픽셀 : 디지털 영상을 구성하는 최소 단위(화소)\n",
        "- 해상도  : 영상의 가로 길이와 세로 길이의 곱"
      ],
      "metadata": {
        "id": "L9POpu9laB_D"
      }
    },
    {
      "cell_type": "markdown",
      "source": [
        "포토사이트 : 전기신호 아날로그 신호로 변환"
      ],
      "metadata": {
        "id": "cWtEb_nlaCKk"
      }
    },
    {
      "cell_type": "markdown",
      "source": [
        "빛 : 사람이 볼 수 있는 범위의 파장을 가진 전자기파\n",
        "  - 좁은 의미 : 가시광선\n",
        "  - 넚은 의미 : 모든 종류의 전자기파를 포함"
      ],
      "metadata": {
        "id": "-Y3dAEyIaCNz"
      }
    },
    {
      "cell_type": "markdown",
      "source": [
        "### 빛과 색\n",
        "인간이 인지하는 색의 3 속성\n",
        "- 밝기 : 빛의 세기에 대한 시각, 지각적 정도\n",
        "- 색상 : 색의 질을 나타는 속성\n",
        "- 채도 : 색의 맑고 탁한 정도\n"
      ],
      "metadata": {
        "id": "kU__WzsEbcUN"
      }
    },
    {
      "cell_type": "markdown",
      "source": [
        "#### 3자극치\n",
        "- 인간의 눈이 색을 감지하는 방식\n",
        "- 눈으로 입사되는 빛 스펙트럼에 대한 3원색의 응답 특성"
      ],
      "metadata": {
        "id": "qIcxF6XDbcZE"
      }
    },
    {
      "cell_type": "markdown",
      "source": [
        "### 컬러모델\n",
        "#### 색의 특징을 설명하기 위한 수학적 방법"
      ],
      "metadata": {
        "id": "RSbMIhTqbcet"
      }
    },
    {
      "cell_type": "markdown",
      "source": [
        "RGB, YCbCr, HSI, YIQ"
      ],
      "metadata": {
        "id": "Dh4dzUgefasn"
      }
    },
    {
      "cell_type": "markdown",
      "source": [
        "### 데이터 포맷\n",
        "- 영상의 헤더 정보  : 파일 정보 및 영상의 보조 데이터 저장\n",
        "\n",
        "- 영상의 데이터 : M x N개의 픽셀로 구성, 일반적으로 2차원 배열\n",
        "\n",
        "- 데이터 포맷, 파일 사이즈 -> 헤더 정보부 필요"
      ],
      "metadata": {
        "id": "KDKQ_Ix3fawT"
      }
    },
    {
      "cell_type": "markdown",
      "source": [
        "RAW 데이터 포맷\n",
        "- 영상의 크기 정보 필요\n",
        "- 헤더 정보 없이 영상 데이터로만 구성\n"
      ],
      "metadata": {
        "id": "rBj9TG8lfayb"
      }
    },
    {
      "cell_type": "markdown",
      "source": [
        "#### 다양한 저장 포맷\n",
        "- JPG\n",
        "- BMP"
      ],
      "metadata": {
        "id": "EBW-KsgZfa1t"
      }
    },
    {
      "cell_type": "code",
      "source": [
        "R"
      ],
      "metadata": {
        "id": "nrBcaeyadJsu"
      },
      "execution_count": null,
      "outputs": []
    }
  ]
}